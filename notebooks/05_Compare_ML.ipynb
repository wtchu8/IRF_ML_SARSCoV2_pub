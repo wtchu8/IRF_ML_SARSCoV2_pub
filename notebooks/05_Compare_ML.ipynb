{
 "cells": [
  {
   "cell_type": "code",
   "execution_count": 1,
   "metadata": {},
   "outputs": [],
   "source": [
    "import os\n",
    "import yaml\n",
    "import pandas as pd\n",
    "import pickle\n",
    "import sys\n",
    "from datetime import datetime\n",
    "\n",
    "sys.path.append('../src')\n",
    "from ml_tools_wc import plot_comparison"
   ]
  },
  {
   "cell_type": "code",
   "execution_count": 2,
   "metadata": {},
   "outputs": [
    {
     "data": {
      "text/html": [
       "<div>\n",
       "<style scoped>\n",
       "    .dataframe tbody tr th:only-of-type {\n",
       "        vertical-align: middle;\n",
       "    }\n",
       "\n",
       "    .dataframe tbody tr th {\n",
       "        vertical-align: top;\n",
       "    }\n",
       "\n",
       "    .dataframe thead th {\n",
       "        text-align: right;\n",
       "    }\n",
       "</style>\n",
       "<table border=\"1\" class=\"dataframe\">\n",
       "  <thead>\n",
       "    <tr style=\"text-align: right;\">\n",
       "      <th></th>\n",
       "      <th>Date</th>\n",
       "      <th>Model</th>\n",
       "      <th>AUC</th>\n",
       "      <th>CVaccuracy</th>\n",
       "      <th>ShuffleCVacc</th>\n",
       "      <th>Note</th>\n",
       "    </tr>\n",
       "  </thead>\n",
       "  <tbody>\n",
       "    <tr>\n",
       "      <th>0</th>\n",
       "      <td>2/8/2021 13:15</td>\n",
       "      <td>LogisticRegression()</td>\n",
       "      <td>1.000000</td>\n",
       "      <td>0.943810</td>\n",
       "      <td>0.960000</td>\n",
       "      <td>Timepoints d2/d4/d6; FS: MRMR k=17; z-norm; im...</td>\n",
       "    </tr>\n",
       "    <tr>\n",
       "      <th>1</th>\n",
       "      <td>2/8/2021 13:15</td>\n",
       "      <td>LogisticRegression(multi_class='ovr', solver='...</td>\n",
       "      <td>1.000000</td>\n",
       "      <td>0.943810</td>\n",
       "      <td>0.946667</td>\n",
       "      <td>Timepoints d2/d4/d6; FS: MRMR k=17; z-norm; im...</td>\n",
       "    </tr>\n",
       "    <tr>\n",
       "      <th>2</th>\n",
       "      <td>2/8/2021 13:15</td>\n",
       "      <td>SVC(probability=True)</td>\n",
       "      <td>0.977778</td>\n",
       "      <td>0.917143</td>\n",
       "      <td>0.973333</td>\n",
       "      <td>Timepoints d2/d4/d6; FS: MRMR k=17; z-norm; im...</td>\n",
       "    </tr>\n",
       "    <tr>\n",
       "      <th>3</th>\n",
       "      <td>2/8/2021 13:15</td>\n",
       "      <td>SVC(kernel='linear', probability=True)</td>\n",
       "      <td>1.000000</td>\n",
       "      <td>0.929524</td>\n",
       "      <td>0.973333</td>\n",
       "      <td>Timepoints d2/d4/d6; FS: MRMR k=17; z-norm; im...</td>\n",
       "    </tr>\n",
       "    <tr>\n",
       "      <th>4</th>\n",
       "      <td>2/8/2021 13:15</td>\n",
       "      <td>DecisionTreeClassifier()</td>\n",
       "      <td>0.811111</td>\n",
       "      <td>0.803810</td>\n",
       "      <td>0.786667</td>\n",
       "      <td>Timepoints d2/d4/d6; FS: MRMR k=17; z-norm; im...</td>\n",
       "    </tr>\n",
       "  </tbody>\n",
       "</table>\n",
       "</div>"
      ],
      "text/plain": [
       "             Date                                              Model  \\\n",
       "0  2/8/2021 13:15                               LogisticRegression()   \n",
       "1  2/8/2021 13:15  LogisticRegression(multi_class='ovr', solver='...   \n",
       "2  2/8/2021 13:15                              SVC(probability=True)   \n",
       "3  2/8/2021 13:15             SVC(kernel='linear', probability=True)   \n",
       "4  2/8/2021 13:15                           DecisionTreeClassifier()   \n",
       "\n",
       "        AUC  CVaccuracy  ShuffleCVacc  \\\n",
       "0  1.000000    0.943810      0.960000   \n",
       "1  1.000000    0.943810      0.946667   \n",
       "2  0.977778    0.917143      0.973333   \n",
       "3  1.000000    0.929524      0.973333   \n",
       "4  0.811111    0.803810      0.786667   \n",
       "\n",
       "                                                Note  \n",
       "0  Timepoints d2/d4/d6; FS: MRMR k=17; z-norm; im...  \n",
       "1  Timepoints d2/d4/d6; FS: MRMR k=17; z-norm; im...  \n",
       "2  Timepoints d2/d4/d6; FS: MRMR k=17; z-norm; im...  \n",
       "3  Timepoints d2/d4/d6; FS: MRMR k=17; z-norm; im...  \n",
       "4  Timepoints d2/d4/d6; FS: MRMR k=17; z-norm; im...  "
      ]
     },
     "execution_count": 2,
     "metadata": {},
     "output_type": "execute_result"
    }
   ],
   "source": [
    "#Retreive local data path\n",
    "with open('../config/paths.yaml','r') as file:\n",
    "    paths_list = yaml.safe_load(file)\n",
    "    PATH = os.path.abspath(paths_list['PATH'])\n",
    "    \n",
    "# Open cleaned data\n",
    "master_log_file = os.path.join(PATH,'tables','master_log_2021_08_10.csv')\n",
    "master_log = pd.read_csv(master_log_file)\n",
    "master_log.head()"
   ]
  },
  {
   "cell_type": "code",
   "execution_count": 3,
   "metadata": {},
   "outputs": [
    {
     "data": {
      "text/plain": [
       "array(['Timepoints d2/d4/d6; FS: MRMR k=17; z-norm; immunology data',\n",
       "       'Timepoints d2/d4/d6; FS: MRMR k=34; z-norm; immunology data',\n",
       "       'Timepoints d2/d4/d6; FS: MRMR k=34; z-norm; immunology data; no BUN or Creat',\n",
       "       'Timepoints d2/d4/d6; FS: f-test k=34; z-norm; immunology data',\n",
       "       'time:d2d4d6;z-norm;radio-path-imm;FS:MRMR MIQ k=34;',\n",
       "       'time:d2d4d6;z-norm;radio-path-imm;FS:2x4ANOVA;',\n",
       "       'time:d2d4d6;z-norm;radio-path-imm;FS:MRMR MIQ k=34, no imm;',\n",
       "       'time:d2d4d6;z-norm;radio-path-imm;FS:MRMR MIQ k=34,no imm,noBUNorCre;',\n",
       "       'time:d2d4d6;z-norm;radio-path-imm;FS:MRMR MIQ k=34,noBUNnoCre;',\n",
       "       'time:d2d4d6;z-norm;radio-path-imm;FS:MRMR MIQ k=17;',\n",
       "       'time:d2d4d6;z-norm;radio-path-imm;FS:ftest k=34;',\n",
       "       'time:d2d4d6;z-norm,all_vars;radio-path-imm;FS:MRMR MIQ k=34;',\n",
       "       'TC_ExclAndWarn;time:d2d4d6;z-norm,all_vars;radio-path-imm;FS:MRMR MIQ k=34;',\n",
       "       'TC_ExclAndWarn;time:d2d4d6;z-norm;radio-path-imm;FS:MRMR MIQ k=34;',\n",
       "       'TC_ExclAndWarn;time:d2d4d6;z-norm;radio-path-imm;FS:MRMR MID k=34;',\n",
       "       'TC_Excl;time:d2d4d6;z-norm;radio-path-imm;FS:MRMR MIQ k=34;'],\n",
       "      dtype=object)"
      ]
     },
     "execution_count": 3,
     "metadata": {},
     "output_type": "execute_result"
    }
   ],
   "source": [
    "master_log.Note.unique()"
   ]
  },
  {
   "cell_type": "code",
   "execution_count": 4,
   "metadata": {},
   "outputs": [
    {
     "name": "stdout",
     "output_type": "stream",
     "text": [
      "There are duplicates:  False\n"
     ]
    }
   ],
   "source": [
    "print('There are duplicates: ',master_log.duplicated(subset=['Note','Model']).any())"
   ]
  },
  {
   "cell_type": "code",
   "execution_count": 5,
   "metadata": {},
   "outputs": [],
   "source": [
    "# def plot_comparison(log, title_prefix, labelA, noteA, labelB, noteB, metric='CVaccuracy'):\n",
    "#     model_list=['LogisticRegression()',\"SVC(kernel='linear', probability=True)\",\n",
    "#                 'DecisionTreeClassifier()','RandomForestClassifier()',\n",
    "#                 'KNeighborsClassifier()','GaussianNB()',\n",
    "#                 'LinearDiscriminantAnalysis()']\n",
    "#     model_name_dict={\"SVC(kernel='linear', probability=True)\":'SVM','LogisticRegression()':'Logistic Regression',\n",
    "#                         'DecisionTreeClassifier()':'Decision Tree','RandomForestClassifier()':'Random Forest',\n",
    "#                         'KNeighborsClassifier()':'KNN','GaussianNB()':'Gaussian Naive Bayes',\n",
    "#                         'LinearDiscriminantAnalysis()':'LDA'}\n",
    "    \n",
    "#     title = title_prefix + ' ' + labelA + ' vs. ' + labelB\n",
    "#     tag = 'ML_comparison'+title.replace(' ','_')\n",
    "#     tmp_log = log.loc[master_log['Note'].isin([noteA,noteB]) & master_log['Model'].isin(model_list),['Model','Note',metric]]\n",
    "#     tmp_log = tmp_log.replace(model_name_dict)\n",
    "#     tmp_log.loc[tmp_log.Note == noteA,'Note'] = labelA\n",
    "#     tmp_log.loc[tmp_log.Note == noteB,'Note'] = labelB\n",
    "#     tmp_log = tmp_log.set_index(['Model','Note']).unstack()[metric]\n",
    "#     tmp_log.columns.name = None\n",
    "#     display(tmp_log)\n",
    "    \n",
    "#     fig = plt.figure(facecolor='white')\n",
    "#     axs = fig.add_subplot()\n",
    "\n",
    "#     tmp_log.plot.barh(y=[labelA,labelB], ax=axs)\n",
    "    \n",
    "#     axs.set_axisbelow(True)\n",
    "#     axs.xaxis.grid()\n",
    "#     axs.set_title(title)\n",
    "\n",
    "#     axs.set_xlim([0.5,1])\n",
    "#     axs.set_xlabel(metric)\n",
    "#     fig.savefig(os.path.join(PATH,'figures',tag+'.png'), bbox_inches=\"tight\",dpi=300)\n",
    "#     plt.show()\n",
    "#     plt.close(fig)"
   ]
  },
  {
   "cell_type": "code",
   "execution_count": 6,
   "metadata": {},
   "outputs": [],
   "source": [
    "# plot_comparison(master_log,'MRMR',\\\n",
    "#                 'top 10%',\\\n",
    "#                 'Timepoints d2/d4/d6; FS: MRMR k=17; z-norm; immunology data',\\\n",
    "#                 'top 20%',\\\n",
    "#                 'Timepoints d2/d4/d6; FS: MRMR k=34; z-norm; immunology data')"
   ]
  },
  {
   "cell_type": "code",
   "execution_count": 7,
   "metadata": {},
   "outputs": [],
   "source": [
    "# plot_comparison(master_log,'',\\\n",
    "#                 'MRMR',\\\n",
    "#                 'Timepoints d2/d4/d6; FS: MRMR k=34; z-norm; immunology data',\\\n",
    "#                 'f-test',\\\n",
    "#                 'Timepoints d2/d4/d6; FS: f-test k=34; z-norm; immunology data')"
   ]
  },
  {
   "cell_type": "code",
   "execution_count": 8,
   "metadata": {},
   "outputs": [],
   "source": [
    "# plot_comparison(master_log,'',\\\n",
    "#                 'Without BUN or Creatinine',\\\n",
    "#                 'Timepoints d2/d4/d6; FS: MRMR k=34; z-norm; immunology data; no BUN or Creat',\\\n",
    "#                 'With BUN and Creatinine',\\\n",
    "#                 'Timepoints d2/d4/d6; FS: MRMR k=34; z-norm; immunology data')"
   ]
  },
  {
   "cell_type": "code",
   "execution_count": 9,
   "metadata": {},
   "outputs": [],
   "source": [
    "fig,tag = plot_comparison(master_log,'',\\\n",
    "                'old',\\\n",
    "                'Timepoints d2/d4/d6; FS: MRMR k=34; z-norm; immunology data',\\\n",
    "                'new',\\\n",
    "                'time:d2d4d6;z-norm;radio-path-imm;FS:MRMR MIQ k=34;')\n",
    "fig.savefig(os.path.join(PATH,'figures',tag+'.png'), bbox_inches=\"tight\",dpi=300)"
   ]
  },
  {
   "cell_type": "code",
   "execution_count": 10,
   "metadata": {},
   "outputs": [
    {
     "data": {
      "text/plain": [
       "(<Figure size 432x288 with 1 Axes>, 'ML_comparison_new_vs._old')"
      ]
     },
     "execution_count": 10,
     "metadata": {},
     "output_type": "execute_result"
    }
   ],
   "source": [
    "plot_comparison(master_log,'',\\\n",
    "                'new',\\\n",
    "                'time:d2d4d6;z-norm;radio-path-imm;FS:MRMR MIQ k=34;',\\\n",
    "                'old',\\\n",
    "                'Timepoints d2/d4/d6; FS: MRMR k=34; z-norm; immunology data')"
   ]
  },
  {
   "cell_type": "code",
   "execution_count": 11,
   "metadata": {},
   "outputs": [
    {
     "data": {
      "text/plain": [
       "(<Figure size 432x288 with 1 Axes>,\n",
       " 'ML_comparisonFS_comparison__2x4ANOVAp>0.05_vs._MRMR')"
      ]
     },
     "execution_count": 11,
     "metadata": {},
     "output_type": "execute_result"
    }
   ],
   "source": [
    "plot_comparison(master_log,'FS comparison ',\\\n",
    "                '2x4ANOVAp>0.05',\\\n",
    "                'time:d2d4d6;z-norm;radio-path-imm;FS:2x4ANOVA;',\\\n",
    "                'MRMR',\\\n",
    "                'time:d2d4d6;z-norm;radio-path-imm;FS:MRMR MIQ k=34;')"
   ]
  },
  {
   "cell_type": "code",
   "execution_count": 12,
   "metadata": {},
   "outputs": [
    {
     "data": {
      "text/plain": [
       "(<Figure size 432x288 with 1 Axes>,\n",
       " 'ML_comparisonNo_Immunology_Without_BUN_and_Creatinine_vs._With_BUN_and_Creatinine')"
      ]
     },
     "execution_count": 12,
     "metadata": {},
     "output_type": "execute_result"
    }
   ],
   "source": [
    "plot_comparison(master_log,'No Immunology',\\\n",
    "                'Without BUN and Creatinine',\\\n",
    "                'time:d2d4d6;z-norm;radio-path-imm;FS:MRMR MIQ k=34,no imm,noBUNorCre;',\\\n",
    "                'With BUN and Creatinine',\\\n",
    "                'time:d2d4d6;z-norm;radio-path-imm;FS:MRMR MIQ k=34, no imm;')"
   ]
  },
  {
   "cell_type": "code",
   "execution_count": 13,
   "metadata": {},
   "outputs": [
    {
     "data": {
      "text/plain": [
       "(<Figure size 432x288 with 1 Axes>,\n",
       " 'ML_comparison_Without_BUN_or_Creatinine_vs._With_BUN_and_Creatinine')"
      ]
     },
     "execution_count": 13,
     "metadata": {},
     "output_type": "execute_result"
    }
   ],
   "source": [
    "plot_comparison(master_log,'',\\\n",
    "                'Without BUN or Creatinine',\\\n",
    "                'time:d2d4d6;z-norm;radio-path-imm;FS:MRMR MIQ k=34,noBUNnoCre;',\\\n",
    "                'With BUN and Creatinine',\\\n",
    "                'time:d2d4d6;z-norm;radio-path-imm;FS:MRMR MIQ k=34;')"
   ]
  },
  {
   "cell_type": "code",
   "execution_count": 14,
   "metadata": {},
   "outputs": [
    {
     "data": {
      "text/plain": [
       "(<Figure size 432x288 with 1 Axes>, 'ML_comparisonMRMR_top_20%_vs._top_10%')"
      ]
     },
     "execution_count": 14,
     "metadata": {},
     "output_type": "execute_result"
    }
   ],
   "source": [
    "plot_comparison(master_log,'MRMR',\\\n",
    "                'top 20%',\\\n",
    "                'time:d2d4d6;z-norm;radio-path-imm;FS:MRMR MIQ k=34;',\\\n",
    "                'top 10%',\\\n",
    "                'time:d2d4d6;z-norm;radio-path-imm;FS:MRMR MIQ k=17;')"
   ]
  },
  {
   "cell_type": "code",
   "execution_count": 15,
   "metadata": {},
   "outputs": [
    {
     "data": {
      "text/plain": [
       "(<Figure size 432x288 with 1 Axes>, 'ML_comparison_MRMR_vs._f-test')"
      ]
     },
     "execution_count": 15,
     "metadata": {},
     "output_type": "execute_result"
    }
   ],
   "source": [
    "plot_comparison(master_log,'',\\\n",
    "                'MRMR',\\\n",
    "                'time:d2d4d6;z-norm;radio-path-imm;FS:MRMR MIQ k=34;',\\\n",
    "                'f-test',\\\n",
    "                'time:d2d4d6;z-norm;radio-path-imm;FS:ftest k=34;')"
   ]
  },
  {
   "cell_type": "code",
   "execution_count": 16,
   "metadata": {},
   "outputs": [
    {
     "data": {
      "text/plain": [
       "(<Figure size 432x288 with 1 Axes>, 'ML_comparison_MRMR_vs._All')"
      ]
     },
     "execution_count": 16,
     "metadata": {},
     "output_type": "execute_result"
    }
   ],
   "source": [
    "plot_comparison(master_log,'',\\\n",
    "                'MRMR',\\\n",
    "                'time:d2d4d6;z-norm;radio-path-imm;FS:MRMR MIQ k=34;',\\\n",
    "                'All',\\\n",
    "                'time:d2d4d6;z-norm,all_vars;radio-path-imm;FS:MRMR MIQ k=34;')"
   ]
  },
  {
   "cell_type": "code",
   "execution_count": 17,
   "metadata": {},
   "outputs": [
    {
     "data": {
      "text/plain": [
       "(<Figure size 432x288 with 1 Axes>,\n",
       " 'ML_comparison_MRMR_vs._Cooper_excl_and_warn')"
      ]
     },
     "execution_count": 17,
     "metadata": {},
     "output_type": "execute_result"
    }
   ],
   "source": [
    "plot_comparison(master_log,'',\\\n",
    "                'MRMR',\\\n",
    "                'time:d2d4d6;z-norm;radio-path-imm;FS:MRMR MIQ k=34;',\\\n",
    "                'Cooper excl and warn',\\\n",
    "                'TC_ExclAndWarn;time:d2d4d6;z-norm;radio-path-imm;FS:MRMR MIQ k=34;')"
   ]
  },
  {
   "cell_type": "code",
   "execution_count": 18,
   "metadata": {},
   "outputs": [
    {
     "data": {
      "text/plain": [
       "(<Figure size 432x288 with 1 Axes>, 'ML_comparison_MRMR_vs._Cooper_excl')"
      ]
     },
     "execution_count": 18,
     "metadata": {},
     "output_type": "execute_result"
    }
   ],
   "source": [
    "plot_comparison(master_log,'',\\\n",
    "                'MRMR',\\\n",
    "                'time:d2d4d6;z-norm;radio-path-imm;FS:MRMR MIQ k=34;',\\\n",
    "                'Cooper excl',\\\n",
    "                'TC_Excl;time:d2d4d6;z-norm;radio-path-imm;FS:MRMR MIQ k=34;')"
   ]
  },
  {
   "cell_type": "code",
   "execution_count": 19,
   "metadata": {},
   "outputs": [
    {
     "data": {
      "text/plain": [
       "(<Figure size 432x288 with 1 Axes>, 'ML_comparison_MRMR-MIQ_vs._MRMR-MID')"
      ]
     },
     "execution_count": 19,
     "metadata": {},
     "output_type": "execute_result"
    }
   ],
   "source": [
    "plot_comparison(master_log,'',\\\n",
    "                'MRMR-MIQ',\\\n",
    "                'TC_ExclAndWarn;time:d2d4d6;z-norm;radio-path-imm;FS:MRMR MIQ k=34;',\\\n",
    "                'MRMR-MID',\\\n",
    "                'TC_ExclAndWarn;time:d2d4d6;z-norm;radio-path-imm;FS:MRMR MID k=34;')"
   ]
  },
  {
   "cell_type": "code",
   "execution_count": null,
   "metadata": {},
   "outputs": [],
   "source": []
  }
 ],
 "metadata": {
  "kernelspec": {
   "display_name": "Python 3.6.7",
   "language": "python",
   "name": "python3"
  },
  "language_info": {
   "codemirror_mode": {
    "name": "ipython",
    "version": 3
   },
   "file_extension": ".py",
   "mimetype": "text/x-python",
   "name": "python",
   "nbconvert_exporter": "python",
   "pygments_lexer": "ipython3",
   "version": "3.6.7"
  }
 },
 "nbformat": 4,
 "nbformat_minor": 4
}
